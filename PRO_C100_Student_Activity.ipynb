{
  "nbformat": 4,
  "nbformat_minor": 0,
  "metadata": {
    "colab": {
      "name": "PRO C100 Student Activity.ipynb",
      "provenance": [],
      "collapsed_sections": [],
      "include_colab_link": true
    },
    "kernelspec": {
      "name": "python3",
      "display_name": "Python 3"
    },
    "language_info": {
      "name": "python"
    }
  },
  "cells": [
    {
      "cell_type": "markdown",
      "metadata": {
        "id": "view-in-github",
        "colab_type": "text"
      },
      "source": [
        "<a href=\"https://colab.research.google.com/github/DeepthiTchr/PythonColabSheets/blob/main/PRO_C100_Student_Activity.ipynb\" target=\"_parent\"><img src=\"https://colab.research.google.com/assets/colab-badge.svg\" alt=\"Open In Colab\"/></a>"
      ]
    },
    {
      "cell_type": "markdown",
      "metadata": {
        "id": "FEJpk7d85AEe"
      },
      "source": [
        "## Phonebook"
      ]
    },
    {
      "cell_type": "code",
      "metadata": {
        "id": "TvPncZmt4lLb"
      },
      "source": [
        "# Define Class\n",
        "class Contact_Details:\n",
        "\n",
        "    # Define Attributes of class  \n",
        "    def __init__(self, name, mobile_number, email, address):\n",
        "        self.contact_name = name\n",
        "        self.contact_number = mobile_number\n",
        "        self.email = email\n",
        "        self.contact_address = address       \n",
        "\n",
        "        # Make a dictionary of the contact details \n",
        "        self.person = {\n",
        "            \"name\": self.contact_name,\n",
        "            \"mobile\" : self.contact_number,\n",
        "            \"email\": self.email,\n",
        "            \"address\": self.contact_address\n",
        "        } \n",
        "       \n",
        "\n",
        "    # Define Methods of class\n",
        "    def view_contact_details(self, contact_list): \n",
        "         print(contact_list)\n",
        "\n",
        "    # Add the contact details to the list    \n",
        "    def add_contact_details(self, contact_list):      \n",
        "      contact_list.append(self.person)\n",
        "\n",
        "    # REPLACE THIS COMMENT WITH CODE#"
      ],
      "execution_count": null,
      "outputs": []
    },
    {
      "cell_type": "code",
      "metadata": {
        "id": "IhfI3d6OF6K8"
      },
      "source": [
        "# Create Object of the class\n"
      ],
      "execution_count": null,
      "outputs": []
    },
    {
      "cell_type": "code",
      "metadata": {
        "id": "kWMf88E6jMn3"
      },
      "source": [
        "# Call Methods of the class\n"
      ],
      "execution_count": null,
      "outputs": []
    }
  ]
}