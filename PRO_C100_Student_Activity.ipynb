{
  "nbformat": 4,
  "nbformat_minor": 0,
  "metadata": {
    "colab": {
      "name": "PRO C100 Student Activity.ipynb",
      "provenance": [],
      "collapsed_sections": [],
      "include_colab_link": true
    },
    "kernelspec": {
      "name": "python3",
      "display_name": "Python 3"
    },
    "language_info": {
      "name": "python"
    }
  },
  "cells": [
    {
      "cell_type": "markdown",
      "metadata": {
        "id": "view-in-github",
        "colab_type": "text"
      },
      "source": [
        "<a href=\"https://colab.research.google.com/github/DeepthiTchr/PythonColabSheets/blob/main/PRO_C100_Student_Activity.ipynb\" target=\"_parent\"><img src=\"https://colab.research.google.com/assets/colab-badge.svg\" alt=\"Open In Colab\"/></a>"
      ]
    },
    {
      "cell_type": "markdown",
      "metadata": {
        "id": "FEJpk7d85AEe"
      },
      "source": [
        "## Phonebook"
      ]
    },
    {
      "cell_type": "code",
      "metadata": {
        "id": "TvPncZmt4lLb"
      },
      "source": [
        "# Define Class\n",
        "class Contact_Details:\n",
        "\n",
        "    # Define Attributes of class  \n",
        "    def __init__(self, name, mobile_number, email, address):\n",
        "        self.contact_name = name\n",
        "        self.contact_number = mobile_number\n",
        "        self.email = email\n",
        "        self.contact_address = address       \n",
        "\n",
        "        # Make a dictionary of the contact details \n",
        "        self.person = {\n",
        "            \"name\": self.contact_name,\n",
        "            \"mobile\" : self.contact_number,\n",
        "            \"email\": self.email,\n",
        "            \"address\": self.contact_address\n",
        "        } \n",
        "       \n",
        "\n",
        "    # Define Methods of class\n",
        "    def view_contact_details(self, contact_list): \n",
        "         print(contact_list)\n",
        "\n",
        "    # Add the contact details to the list    \n",
        "    def add_contact_details(self, contact_list):      \n",
        "      contact_list.append(self.person)\n",
        "\n",
        "    # REPLACE THIS COMMENT WITH CODE#"
      ],
      "execution_count": 16,
      "outputs": []
    },
    {
      "cell_type": "code",
      "metadata": {
        "id": "IhfI3d6OF6K8",
        "outputId": "9fe83663-4039-4a94-e609-b23cbb301d1b",
        "colab": {
          "base_uri": "https://localhost:8080/"
        }
      },
      "source": [
        "# Create Object of the class\n",
        "new_Contact = Contact_Details(\"Preeti\", 558899558, \"mail@mail.com\",\"Kasargod, India\")\n",
        "print(new_Contact)"
      ],
      "execution_count": 17,
      "outputs": [
        {
          "output_type": "stream",
          "name": "stdout",
          "text": [
            "<__main__.Contact_Details object at 0x7f4a80300290>\n"
          ]
        }
      ]
    },
    {
      "cell_type": "code",
      "metadata": {
        "id": "kWMf88E6jMn3",
        "outputId": "206bdf40-4602-4ed4-e2dc-8111cbb08b41",
        "colab": {
          "base_uri": "https://localhost:8080/"
        }
      },
      "source": [
        "# Call Methods of the class\n",
        "phonebooklist=[]\n",
        "new_Contact.add_contact_details(phonebooklist)\n",
        "new_Contact.view_contact_details(phonebooklist)\n"
      ],
      "execution_count": 18,
      "outputs": [
        {
          "output_type": "stream",
          "name": "stdout",
          "text": [
            "[{'name': 'Preeti', 'mobile': 558899558, 'email': 'mail@mail.com', 'address': 'Kasargod, India'}]\n"
          ]
        }
      ]
    },
    {
      "cell_type": "code",
      "source": [
        "new_Contact = Contact_Details(\"Seena\", 45454545454, \"mail@mail.com\",\"Kerala, India\")\n",
        "new_Contact.add_contact_details(phonebooklist)\n",
        "new_Contact.view_contact_details(phonebooklist)"
      ],
      "metadata": {
        "id": "3UBqIQies0A5",
        "outputId": "cd8b69ba-d37e-42fe-bbc2-00de61596bab",
        "colab": {
          "base_uri": "https://localhost:8080/"
        }
      },
      "execution_count": 20,
      "outputs": [
        {
          "output_type": "stream",
          "name": "stdout",
          "text": [
            "[{'name': 'Preeti', 'mobile': 558899558, 'email': 'mail@mail.com', 'address': 'Kasargod, India'}, {'name': 'Seena', 'mobile': 45454545454, 'email': 'mail@mail.com', 'address': 'Kerala, India'}]\n"
          ]
        }
      ]
    }
  ]
}